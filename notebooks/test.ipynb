{
 "cells": [
  {
   "cell_type": "markdown",
   "source": [
    "# Q Learning\n",
    "- Q Learning is a type of Reinforcement learning method that uses a value iteration approach to finding the optimal policy.\n",
    "- The goal of Q Learning is to learn the Q Value for each state action pair and then follow the optimal Q Function from there on.\n",
    "- The Q Value is the expected return if you start with a given state-action pair and then act according to a particular policy forever after that.\n",
    "- The Q Values are given by"
   ],
   "metadata": {
    "collapsed": false,
    "pycharm": {
     "name": "#%% md\n"
    }
   }
  },
  {
   "cell_type": "code",
   "execution_count": null,
   "metadata": {
    "collapsed": true,
    "pycharm": {
     "name": "#%%\n"
    }
   },
   "outputs": [],
   "source": []
  }
 ],
 "metadata": {
  "kernelspec": {
   "display_name": "Python 3",
   "language": "python",
   "name": "python3"
  },
  "language_info": {
   "codemirror_mode": {
    "name": "ipython",
    "version": 2
   },
   "file_extension": ".py",
   "mimetype": "text/x-python",
   "name": "python",
   "nbconvert_exporter": "python",
   "pygments_lexer": "ipython2",
   "version": "2.7.6"
  }
 },
 "nbformat": 4,
 "nbformat_minor": 0
}